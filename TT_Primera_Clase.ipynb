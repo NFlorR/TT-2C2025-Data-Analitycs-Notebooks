{
  "nbformat": 4,
  "nbformat_minor": 0,
  "metadata": {
    "colab": {
      "provenance": [],
      "mount_file_id": "1PLrk_pwXbXBjfqf8ZKhiyyvLgZyhsaqH",
      "authorship_tag": "ABX9TyNMmWKp/x5ybBFBSNybc4TE",
      "include_colab_link": true
    },
    "kernelspec": {
      "name": "python3",
      "display_name": "Python 3"
    },
    "language_info": {
      "name": "python"
    }
  },
  "cells": [
    {
      "cell_type": "markdown",
      "metadata": {
        "id": "view-in-github",
        "colab_type": "text"
      },
      "source": [
        "<a href=\"https://colab.research.google.com/github/NFlorR/TT-2C2025-Data-Analitycs-Notebooks/blob/main/TT_Primera_Clase.ipynb\" target=\"_parent\"><img src=\"https://colab.research.google.com/assets/colab-badge.svg\" alt=\"Open In Colab\"/></a>"
      ]
    },
    {
      "cell_type": "code",
      "execution_count": null,
      "metadata": {
        "id": "k0zwRHXQbCru"
      },
      "outputs": [],
      "source": []
    },
    {
      "cell_type": "markdown",
      "source": [
        "**Hola, soy Natalia**\n",
        "\n",
        "*Algunas cosas que tengo para contar de mi...*\n",
        "\n",
        "*   Tengo 27 años\n",
        "*   Vivo en Córdoba Capital\n",
        "*   Soy de Libra\n",
        "\n",
        "\n",
        "> \"El camino al éxito siempre está en construcción\".\n",
        "\n",
        "[LinkedIn](https://www.linkedin.com/in/nframayo/)\n",
        "\n",
        "![Mi titulo:](/content/drive/MyDrive/DOCUMENTOS/WhatsApp Image 2022-11-30 at 12.04.09 AM (1))\n"
      ],
      "metadata": {
        "id": "FzOkXtXKbDOM"
      }
    },
    {
      "cell_type": "markdown",
      "source": [],
      "metadata": {
        "id": "XHHGuLS8bQBU"
      }
    },
    {
      "cell_type": "code",
      "source": [],
      "metadata": {
        "id": "wcHQ18cbcKuW"
      },
      "execution_count": null,
      "outputs": []
    }
  ]
}